{
 "cells": [
  {
   "cell_type": "code",
   "execution_count": null,
   "id": "faca2651",
   "metadata": {},
   "outputs": [
    {
     "ename": "",
     "evalue": "",
     "output_type": "error",
     "traceback": [
      "\u001b[1;31mRunning cells with 'Python 3.10.5 64-bit' requires ipykernel package.\n",
      "\u001b[1;31mRun the following command to install 'ipykernel' into the Python environment. \n",
      "\u001b[1;31mCommand: 'c:/Users/jessr/AppData/Local/Programs/Python/Python310/python.exe -m pip install ipykernel -U --user --force-reinstall'"
     ]
    }
   ],
   "source": [
    "from IPython.display import clear_output\n",
    "\n",
    "class Food():\n",
    "    def __init__(self, item, quantity, cost):\n",
    "        self.item = item\n",
    "        self.quantity = quantity\n",
    "        self.cost = cost\n",
    "\n",
    "\n",
    "class FoodList:\n",
    "    def __init__(self):\n",
    "        self.foods = []\n",
    "        \n",
    "    def print_books(self):\n",
    "        print(\"=~\" * 15)\n",
    "        print(\"BOOK LIST:\")\n",
    "        \n",
    "        for foods in self.foods:\n",
    "            print(foods.item, foods.quantity, foods.cost)\n",
    "        \n",
    "        print(\"=~\" * 15)\n",
    "\n",
    "\n",
    "\n",
    "    def store_list(food):\n",
    "        food_list[food] = food\n",
    "    \n",
    "    def main():\n",
    "   #step 3\n",
    "        while True:\n",
    "            try:\n",
    "                food = input(\"What would you like to add to the grocery list: \")\n",
    "                quantity = input(\"How many: \")\n",
    "                \n",
    "                if len(quantity) != 1 or not quantity.isdigit():\n",
    "                    raise ValueError(\"number is not valid\")\n",
    "                \n",
    "                cost = input(\"What is the cost: \")\n",
    "        \n",
    "            \n",
    "            store_list(food)\n",
    "        \n",
    "            cont = input(\"would you like to 'see', 'add', 'delete', 'clear', or 'quit'? \")\n",
    "     \n",
    "        if cont == 'see':\n",
    "            print(food_list)\n",
    "            break\n",
    "        if cont == 'delete':\n",
    "            item = input(\"which item would you like to remove? \")\n",
    "            del food_list[item]\n",
    "            break\n",
    "        if cont == 'clear':\n",
    "            food_list.clear()\n",
    "            break\n",
    "        if cont == 'quit':\n",
    "            break\n",
    "        \n",
    "        except Exception as error:\n",
    "                   print(\"A error has occurred, please try again.\")\n",
    "                   print(error)\n",
    "        \n",
    "    \n",
    "    print(food_list)\n",
    "  \n",
    "    main() "
   ]
  },
  {
   "cell_type": "code",
   "execution_count": null,
   "id": "443269fa",
   "metadata": {},
   "outputs": [
    {
     "ename": "",
     "evalue": "",
     "output_type": "error",
     "traceback": [
      "\u001b[1;31mRunning cells with 'Python 3.10.5 64-bit' requires ipykernel package.\n",
      "\u001b[1;31mRun the following command to install 'ipykernel' into the Python environment. \n",
      "\u001b[1;31mCommand: 'c:/Users/jessr/AppData/Local/Programs/Python/Python310/python.exe -m pip install ipykernel -U --user --force-reinstall'"
     ]
    }
   ],
   "source": []
  }
 ],
 "metadata": {
  "kernelspec": {
   "display_name": "Python 3.10.5 64-bit",
   "language": "python",
   "name": "python3"
  },
  "language_info": {
   "codemirror_mode": {
    "name": "ipython",
    "version": 3
   },
   "file_extension": ".py",
   "mimetype": "text/x-python",
   "name": "python",
   "nbconvert_exporter": "python",
   "pygments_lexer": "ipython3",
   "version": "3.10.5"
  },
  "vscode": {
   "interpreter": {
    "hash": "135e52b540fea9e13eb8bd788116ed1c17c5802e4ed34ec2da12fc231a141e2f"
   }
  }
 },
 "nbformat": 4,
 "nbformat_minor": 5
}
