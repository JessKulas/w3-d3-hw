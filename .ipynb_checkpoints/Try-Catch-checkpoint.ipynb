{
 "cells": [
  {
   "cell_type": "markdown",
   "id": "07e211ec",
   "metadata": {},
   "source": [
    "# Try Catch and Error Handling"
   ]
  },
  {
   "cell_type": "markdown",
   "id": "ede5aab0",
   "metadata": {},
   "source": [
    "## Syntax Error"
   ]
  },
  {
   "cell_type": "code",
   "execution_count": null,
   "id": "5af84e09",
   "metadata": {},
   "outputs": [],
   "source": []
  },
  {
   "cell_type": "markdown",
   "id": "55fb8fb3",
   "metadata": {},
   "source": [
    "## Runtime Error"
   ]
  },
  {
   "cell_type": "code",
   "execution_count": null,
   "id": "79e1b2ac",
   "metadata": {},
   "outputs": [],
   "source": []
  },
  {
   "cell_type": "markdown",
   "id": "71cce3d8",
   "metadata": {},
   "source": [
    "## Handling Runtime Error"
   ]
  },
  {
   "cell_type": "code",
   "execution_count": null,
   "id": "bd64222d",
   "metadata": {},
   "outputs": [],
   "source": []
  }
 ],
 "metadata": {
  "kernelspec": {
   "display_name": "Python 3 (ipykernel)",
   "language": "python",
   "name": "python3"
  },
  "language_info": {
   "codemirror_mode": {
    "name": "ipython",
    "version": 3
   },
   "file_extension": ".py",
   "mimetype": "text/x-python",
   "name": "python",
   "nbconvert_exporter": "python",
   "pygments_lexer": "ipython3",
   "version": "3.9.12"
  }
 },
 "nbformat": 4,
 "nbformat_minor": 5
}
