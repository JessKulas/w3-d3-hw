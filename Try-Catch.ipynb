{
 "cells": [
  {
   "cell_type": "markdown",
   "id": "07e211ec",
   "metadata": {},
   "source": [
    "# Try Catch and Error Handling"
   ]
  },
  {
   "cell_type": "markdown",
   "id": "ede5aab0",
   "metadata": {},
   "source": [
    "## Syntax Error"
   ]
  },
  {
   "cell_type": "code",
   "execution_count": null,
   "id": "5af84e09",
   "metadata": {},
   "outputs": [],
   "source": [
    "a = 5\n",
    "\n",
    "if a = 3:\n",
    "    print(\"A IS 3!\")"
   ]
  },
  {
   "cell_type": "markdown",
   "id": "55fb8fb3",
   "metadata": {},
   "source": [
    "## Runtime Error"
   ]
  },
  {
   "cell_type": "code",
   "execution_count": null,
   "id": "79e1b2ac",
   "metadata": {},
   "outputs": [],
   "source": [
    "number = int(input(\"what number would you like to double?\"))\n",
    "print(number * 2)"
   ]
  },
  {
   "cell_type": "markdown",
   "id": "71cce3d8",
   "metadata": {},
   "source": [
    "## Handling Runtime Error"
   ]
  },
  {
   "cell_type": "code",
   "execution_count": null,
   "id": "bd64222d",
   "metadata": {},
   "outputs": [],
   "source": [
    "try:\n",
    "    number = int(input(\"what number would you like to double?\"))\n",
    "    print(number * 2)\n",
    "except:\n",
    "    print(\"There was an Error\")\n",
    "    \n",
    "print(\"AFTER ERROR\")"
   ]
  },
  {
   "cell_type": "code",
   "execution_count": null,
   "id": "311b8558",
   "metadata": {},
   "outputs": [],
   "source": []
  },
  {
   "cell_type": "code",
   "execution_count": null,
   "id": "17f3a93d",
   "metadata": {},
   "outputs": [],
   "source": []
  },
  {
   "cell_type": "code",
   "execution_count": null,
   "id": "1b1a9054",
   "metadata": {},
   "outputs": [],
   "source": []
  },
  {
   "cell_type": "code",
   "execution_count": null,
   "id": "2496f367",
   "metadata": {},
   "outputs": [],
   "source": [
    "def divide(a,b):\n",
    "    return a / b\n",
    "\n",
    "\n",
    "#take in user input for number a, and number b\n",
    "#handle the case in which the user divides by 0\n",
    "\n",
    "try:\n",
    "    number_a = int(input(\"first number?\"))\n",
    "    print(number_a)\n",
    "    number_b = int(input(\"Divide by?\"))\n",
    "    print(number_b)\n",
    "    print(number_a / number_b)\n",
    "    \n",
    "except Exception as error:\n",
    "\n",
    "        print(\"There was an Error\")\n",
    "        print(error)"
   ]
  },
  {
   "cell_type": "markdown",
   "id": "5e6397fa",
   "metadata": {},
   "source": [
    "stacking exception handling\n"
   ]
  },
  {
   "cell_type": "code",
   "execution_count": null,
   "id": "2f8ded7f",
   "metadata": {},
   "outputs": [],
   "source": [
    "try:\n",
    "    number_a = int(input(\"first number?\"))\n",
    "    print(number_a)\n",
    "    number_b = int(input(\"Divide by?\"))\n",
    "    print(number_b)\n",
    "    print(number_a / number_b)\n",
    "    \n",
    "except ZeroDivionError as error:\n",
    "\n",
    "        print(\"There was Zero Division Error\")\n",
    "        print(error)\n",
    "        \n",
    "except ValueError as error:\n",
    "    print(\"there was a Value Error\")\n",
    "    \n",
    "except Exception as Error:\n",
    "    print(error)"
   ]
  },
  {
   "cell_type": "markdown",
   "id": "3dee93c5",
   "metadata": {},
   "source": [
    "Else Block"
   ]
  },
  {
   "cell_type": "code",
   "execution_count": null,
   "id": "f195a613",
   "metadata": {},
   "outputs": [],
   "source": [
    "try:\n",
    "    number_a = int(input(\"first number?\"))\n",
    "    print(number_a)\n",
    "    number_b = int(input(\"Divide by?\"))\n",
    "    print(number_b)\n",
    "    print(number_a / number_b)\n",
    "    \n",
    "except Exception as error:\n",
    "\n",
    "        print(\"There was an Error\")\n",
    "        print(error)"
   ]
  },
  {
   "cell_type": "markdown",
   "id": "102c60ac",
   "metadata": {},
   "source": [
    "finally "
   ]
  },
  {
   "cell_type": "code",
   "execution_count": null,
   "id": "bfe63a3a",
   "metadata": {},
   "outputs": [],
   "source": [
    "try:\n",
    "    number_a = int(input(\"first number?\"))\n",
    "    print(number_a)\n",
    "    number_b = int(input(\"Divide by?\"))\n",
    "    print(number_b)\n",
    "    print(number_a / number_b)\n",
    "    \n",
    "except Exception as error:\n",
    "\n",
    "        print(\"There was an Error\")\n",
    "        print(error)\n",
    "        \n",
    "        \n",
    "finally:\n",
    "    print(\"you've reached the end\")"
   ]
  },
  {
   "cell_type": "markdown",
   "id": "62d5b783",
   "metadata": {},
   "source": [
    "## custom exception\n"
   ]
  },
  {
   "cell_type": "code",
   "execution_count": null,
   "id": "bfd3f4b5",
   "metadata": {},
   "outputs": [],
   "source": [
    "# create a function that generates a correct answer (1-10), \n",
    "# have the user input a positive number to attempt to guess the generated number\n",
    "from random import randint\n",
    "\n",
    "\n",
    "    \n",
    "def guessing_game():\n",
    "    correct_answer = randint(1,10)\n",
    "    print(correct_answer)\n",
    "    \n",
    "    user_guess = int(input(\"Guess a number.... \"))\n",
    "    \n",
    "\n",
    "    if user_guess < 1 or user_guess > 10:\n",
    "        print(\"There was Zero Number Error\")\n",
    "        print(error)\n",
    "try:\n",
    "    guessing_game()\n",
    "except ValueError as error:\n",
    "    print(\"there was a Value Error\")\n",
    "    \n",
    "except Exception as Error:\n",
    "    print(error)\n",
    "    \n",
    "\n",
    "\n",
    "\n",
    "# write a try except to handle a custion ValueError as well as the case where they dont input a number"
   ]
  },
  {
   "cell_type": "markdown",
   "id": "32ad8ba2",
   "metadata": {},
   "source": [
    "## example"
   ]
  },
  {
   "cell_type": "markdown",
   "id": "c5b74ab5",
   "metadata": {},
   "source": [
    "<ul>\n",
    "    <li>Contact's name must be at least 4 characters long</li>\n",
    "    <li>Phone number must be ALL digits and be exactly 9 digits long.</li>\n",
    "    <li>Age must be an integer</li>\n",
    "</ul>\n",
    "\n"
   ]
  },
  {
   "cell_type": "code",
   "execution_count": 3,
   "id": "958cf247",
   "metadata": {},
   "outputs": [
    {
     "ename": "SyntaxError",
     "evalue": "invalid syntax (2727521786.py, line 30)",
     "output_type": "error",
     "traceback": [
      "\u001b[1;36m  Input \u001b[1;32mIn [3]\u001b[1;36m\u001b[0m\n\u001b[1;33m    if len(name) < 4:\u001b[0m\n\u001b[1;37m    ^\u001b[0m\n\u001b[1;31mSyntaxError\u001b[0m\u001b[1;31m:\u001b[0m invalid syntax\n"
     ]
    }
   ],
   "source": [
    "class Person:\n",
    "    def __init__(self, name, address, phone_number, age):\n",
    "        self.name = name\n",
    "        self.address = address\n",
    "        self.phone_number = phone_number\n",
    "        self.age = age\n",
    "\n",
    "class AddressBook:\n",
    "    def __init__(self):\n",
    "        self.contacts = []\n",
    "        \n",
    "    def add_contact(self, name, address, phone_number, age):\n",
    "        new_person = Person(name, address, phone_number, age)\n",
    "        self.contacts.append(new_person)\n",
    "        \n",
    "    def print_contacts(self):\n",
    "        print(\"=~\" * 15)\n",
    "        print(\"CONTACTS:\")\n",
    "        \n",
    "        for contact in self.contacts:\n",
    "            print(contact.name, contact.age, contact.address, contact.phone_number)\n",
    "        \n",
    "        print(\"=~\" * 15)\n",
    "        \n",
    "    def run(self):\n",
    "        while True:\n",
    "            try:\n",
    "                name = input(\"Add name: \")\n",
    "            \n",
    "            if len(name) < 4:\n",
    "                   raise ValueError(\"Name input not valid, name must be at least 4 characters long.\")\n",
    "                   \n",
    "            address = input(\"Add address: \")\n",
    "                   \n",
    "            phone_number = input(\"Add phone_number: \")\n",
    "                   \n",
    "            if len(phone_number) != 9 or not phone_number.isdigit():\n",
    "                  raise ValueError(\"phone number is not valid\") \n",
    "                   \n",
    "            age = int(input(\"Add age: \"))\n",
    "            \n",
    "            self.add_contact(name, address, phone_number, age)\n",
    "            \n",
    "            cont = input(\"Would you like to continue (y/n)? \")\n",
    "        \n",
    "            if cont == 'n':\n",
    "                break\n",
    "        except Exception as error:\n",
    "                   print(\"there was an error, please try again.\")\n",
    "                   print(error)\n",
    "                   \n",
    "        self.print_contacts()"
   ]
  },
  {
   "cell_type": "code",
   "execution_count": null,
   "id": "0405c4c2",
   "metadata": {},
   "outputs": [],
   "source": [
    "book = Address_Book()"
   ]
  },
  {
   "cell_type": "code",
   "execution_count": null,
   "id": "05ab7e75",
   "metadata": {},
   "outputs": [],
   "source": [
    "book.run()"
   ]
  },
  {
   "cell_type": "code",
   "execution_count": null,
   "id": "c89d3f1a",
   "metadata": {},
   "outputs": [],
   "source": []
  },
  {
   "cell_type": "code",
   "execution_count": null,
   "id": "60acd52e",
   "metadata": {},
   "outputs": [],
   "source": []
  }
 ],
 "metadata": {
  "kernelspec": {
   "display_name": "Python 3 (ipykernel)",
   "language": "python",
   "name": "python3"
  },
  "language_info": {
   "codemirror_mode": {
    "name": "ipython",
    "version": 3
   },
   "file_extension": ".py",
   "mimetype": "text/x-python",
   "name": "python",
   "nbconvert_exporter": "python",
   "pygments_lexer": "ipython3",
   "version": "3.9.12"
  }
 },
 "nbformat": 4,
 "nbformat_minor": 5
}
